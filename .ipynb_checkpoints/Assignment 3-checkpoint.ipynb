{
 "cells": [
  {
   "cell_type": "markdown",
   "metadata": {},
   "source": [
    "# Face Detection"
   ]
  },
  {
   "cell_type": "markdown",
   "metadata": {},
   "source": [
    "This application detects faces and stores it as an image."
   ]
  },
  {
   "cell_type": "code",
   "execution_count": 1,
   "metadata": {},
   "outputs": [],
   "source": [
    "import numpy as np \n",
    "import cv2"
   ]
  },
  {
   "cell_type": "code",
   "execution_count": 2,
   "metadata": {},
   "outputs": [],
   "source": [
    "cam = cv2.VideoCapture(0)\n",
    "\n",
    "face_cascade = cv2.CascadeClassifier('data/haarcascade_frontalface_alt2.xml')"
   ]
  },
  {
   "cell_type": "code",
   "execution_count": 3,
   "metadata": {},
   "outputs": [],
   "source": [
    "while(True):\n",
    "\n",
    "\tret,frame = cam.read()\n",
    "\tgray = cv2.cvtColor(frame, cv2.COLOR_BGR2GRAY)\n",
    "\n",
    "\tfaces = face_cascade.detectMultiScale(gray, scaleFactor=1.5, minNeighbors=5)\n",
    "\tfor (x, y, w, h) in faces:\n",
    "\t\tprint(x,y,w,h)\n",
    "\t\troi_gray = gray[y:y+h, x:x+w]\n",
    "\t\troi_color = frame[y:y+h, x:x+w]\n",
    "\n",
    "\t\timg_item = \"capfaceGray.png\"\n",
    "\t\timg_item2 = \"capfaceColor.png\"\n",
    "\t\tcv2.imwrite(img_item, roi_gray)\n",
    "\t\tcv2.imwrite(img_item2, roi_color)\n",
    "\n",
    "\t\tcolor = (255,0,0)\n",
    "\t\tstroke = 2\n",
    "\t\tend_cord_x = x+w\n",
    "\t\tend_cord_y = y+w\n",
    "\t\tcv2.rectangle(frame,(x,y),(end_cord_x,end_cord_y), color, stroke) \n",
    "\t\n",
    "\t#font = ImageFont.truetype(\"UbuntuMono-regular.ttf\", 15)  \n",
    "\tfont=cv2.FONT_HERSHEY_PLAIN\n",
    "\tfont2=cv2.FONT_HERSHEY_COMPLEX\n",
    "\timg = cv2.rectangle(frame, (0,0), (400,160), (0,0,0), -1)\n",
    "\n",
    "\tcv2.putText(frame, 'FACE DETECTION', (20, 30), font2, 1, (0, 255, 0), 1)\n",
    "\tcv2.putText(frame, 'This Application detects faces', (20, 50), font, 1, (255, 255, 255), 1)\n",
    "\tcv2.putText(frame, 'and stores it as an image.', (20, 70), font, 1, (255, 255, 255), 1)\n",
    "\n",
    "\tcv2.putText(frame, 'A blue rectangle will be formed', (20, 90), font, 1, (255, 255, 255), 1)\n",
    "\tcv2.putText(frame, 'around the faces', (20, 110), font, 1, (255, 255, 255), 1)\n",
    "\tcv2.putText(frame, \"Press 'q' to quit the application\" , (20, 150), font, 1, (0, 0, 255), 1)\n",
    "\n",
    "\tcv2.imshow('frame',frame)\n",
    "\n",
    "\tif cv2.waitKey(20) & 0xFF == ord('q'):\n",
    "\t\tbreak\n",
    "cam.release()\n",
    "cv2.destroyAllWindows()"
   ]
  },
  {
   "cell_type": "code",
   "execution_count": null,
   "metadata": {},
   "outputs": [],
   "source": []
  }
 ],
 "metadata": {
  "kernelspec": {
   "display_name": "Python 3",
   "language": "python",
   "name": "python3"
  },
  "language_info": {
   "codemirror_mode": {
    "name": "ipython",
    "version": 3
   },
   "file_extension": ".py",
   "mimetype": "text/x-python",
   "name": "python",
   "nbconvert_exporter": "python",
   "pygments_lexer": "ipython3",
   "version": "3.6.5"
  }
 },
 "nbformat": 4,
 "nbformat_minor": 2
}
